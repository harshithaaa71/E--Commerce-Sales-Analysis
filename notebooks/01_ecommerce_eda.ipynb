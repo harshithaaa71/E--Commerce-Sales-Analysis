{
 "cells": [
  {
   "cell_type": "code",
   "execution_count": null,
   "id": "d7191935",
   "metadata": {},
   "outputs": [],
   "source": [
    "import pandas as pd\n",
    "import numpy as np\n",
    "import matplotlib.pyplot as plt\n",
    "from pathlib import Path\n",
    "\n",
    "# Paths\n",
    "BASE = Path(\"..\").resolve()\n",
    "RAW_CSV = BASE / \"data\" / \"raw\" / \"online_retail_II.xlsx\"   # update if your file is named differently\n",
    "\n",
    "# Load Excel file\n",
    "df = pd.read_excel(RAW_CSV, engine=\"openpyxl\")\n",
    "\n",
    "# Show first 5 rows\n",
    "df.head()\n"
   ]
  },
  {
   "cell_type": "code",
   "execution_count": null,
   "id": "430b3eca",
   "metadata": {},
   "outputs": [],
   "source": [
    "import pandas as pd\n",
    "import numpy as np\n",
    "import matplotlib.pyplot as plt\n",
    "from pathlib import Path\n",
    "\n",
    "# Paths\n",
    "BASE = Path(\"..\").resolve()\n",
    "RAW_CSV = BASE / \"data\" / \"raw\" / \"online_retail_II.xlsx\"   # update if your file is named differently\n",
    "\n",
    "# Load Excel file\n",
    "df = pd.read_excel(RAW_CSV, engine=\"openpyxl\")\n",
    "\n",
    "# Show first 5 rows\n",
    "df.head()\n",
    "\n"
   ]
  },
  {
   "cell_type": "code",
   "execution_count": null,
   "id": "6bcefc91",
   "metadata": {},
   "outputs": [],
   "source": [
    "# Standardize column names\n",
    "df.columns = (\n",
    "    df.columns\n",
    "    .str.strip()\n",
    "    .str.lower()\n",
    "    .str.replace('[^0-9a-zA-Z]+', '_', regex=True)\n",
    ")\n",
    "\n",
    "# Check structure\n",
    "print(\"Shape:\", df.shape)\n",
    "print(\"Columns:\", df.columns.tolist())\n",
    "df.head()\n"
   ]
  },
  {
   "cell_type": "code",
   "execution_count": null,
   "id": "5e810763",
   "metadata": {},
   "outputs": [],
   "source": [
    "# Convert invoice_date to datetime\n",
    "df['invoice_date'] = pd.to_datetime(df['invoice_date'], errors='coerce')\n",
    "\n",
    "# Create a total_price column\n",
    "df['total_price'] = df['quantity'] * df['unitprice']\n",
    "\n",
    "# KPIs\n",
    "total_sales = df['total_price'].sum()\n",
    "total_orders = df['invoice_no'].nunique()\n",
    "total_customers = df['customerid'].nunique()\n",
    "aov = total_sales / total_orders\n",
    "\n",
    "print(\"Total Sales: £{:,.2f}\".format(total_sales))\n",
    "print(\"Total Orders:\", total_orders)\n",
    "print(\"Total Customers:\", total_customers)\n",
    "print(\"Average Order Value: £{:,.2f}\".format(aov))\n"
   ]
  },
  {
   "cell_type": "code",
   "execution_count": null,
   "id": "3339a30a",
   "metadata": {},
   "outputs": [],
   "source": [
    "# Standardize column names\n",
    "df.rename(columns={\n",
    "    'InvoiceNo': 'invoice_id',\n",
    "    'StockCode': 'stock_code',\n",
    "    'Description': 'description',\n",
    "    'Quantity': 'quantity',\n",
    "    'InvoiceDate': 'invoice_date',   # <-- here add underscore\n",
    "    'UnitPrice': 'unit_price',\n",
    "    'CustomerID': 'customer_id',\n",
    "    'Country': 'country'\n",
    "}, inplace=True)\n"
   ]
  },
  {
   "cell_type": "code",
   "execution_count": null,
   "id": "35b0fdbc",
   "metadata": {},
   "outputs": [],
   "source": [
    "# Standardize column names\n",
    "df.rename(columns={\n",
    "    'InvoiceNo': 'invoice_id',\n",
    "    'StockCode': 'stock_code',\n",
    "    'Description': 'description',\n",
    "    'Quantity': 'quantity',\n",
    "    'InvoiceDate': 'invoice_date',   # <-- here add underscore\n",
    "    'UnitPrice': 'unit_price',\n",
    "    'CustomerID': 'customer_id',\n",
    "    'Country': 'country'\n",
    "}, inplace=True)"
   ]
  },
  {
   "cell_type": "code",
   "execution_count": null,
   "id": "7eacf2f2",
   "metadata": {},
   "outputs": [],
   "source": [
    "import pandas as pd\n"
   ]
  },
  {
   "cell_type": "code",
   "execution_count": null,
   "id": "32c00a9e",
   "metadata": {},
   "outputs": [],
   "source": [
    "# Load dataset\n",
    "df = pd.read_excel(\"online_retail_II.xlsx\")\n",
    "# OR if it’s a CSV\n",
    "# df = pd.read_csv(\"online_retail_II.csv\")\n",
    "\n",
    "# Check first few rows\n",
    "print(df.head())\n"
   ]
  },
  {
   "cell_type": "code",
   "execution_count": null,
   "id": "3f627066",
   "metadata": {},
   "outputs": [],
   "source": [
    "# Standardize column names\n",
    "df.rename(columns={\n",
    "    'InvoiceNo': 'invoice_id',\n",
    "    'StockCode': 'stock_code',\n",
    "    'Description': 'description',\n",
    "    'Quantity': 'quantity',\n",
    "    'InvoiceDate': 'invoice_date',   # <- we make it with underscore\n",
    "    'UnitPrice': 'unit_price',\n",
    "    'CustomerID': 'customer_id',\n",
    "    'Country': 'country'\n",
    "}, inplace=True)\n",
    "\n",
    "print(df.columns)\n"
   ]
  },
  {
   "cell_type": "code",
   "execution_count": null,
   "id": "cffd295e",
   "metadata": {},
   "outputs": [],
   "source": [
    "# Load dataset\n",
    "df = pd.read_excel(\"online_retail.xlsx\")\n",
    "# OR if it’s a CSV\n",
    "# df = pd.read_csv(\"online_retail_.csv\")\n",
    "\n",
    "# Check first few rows\n",
    "print(df.head())"
   ]
  },
  {
   "cell_type": "code",
   "execution_count": null,
   "id": "ad1dd34b",
   "metadata": {},
   "outputs": [],
   "source": [
    "\n",
    "df = pd.read_excel(\"online_retail.xlsx\")\n",
    "print(df.head())"
   ]
  },
  {
   "cell_type": "code",
   "execution_count": null,
   "id": "d853cefe",
   "metadata": {},
   "outputs": [],
   "source": [
    "df = pd.read_excel(\"data/raw/online_retail.xlsx\")\n",
    "\n"
   ]
  },
  {
   "cell_type": "code",
   "execution_count": null,
   "id": "b7fe5953",
   "metadata": {},
   "outputs": [],
   "source": [
    "df = pd.read_excel(\"data/raw/online_retail.xlsx\")"
   ]
  },
  {
   "cell_type": "code",
   "execution_count": null,
   "id": "367cbb95",
   "metadata": {},
   "outputs": [],
   "source": [
    "import os\n",
    "print(os.getcwd())\n"
   ]
  },
  {
   "cell_type": "code",
   "execution_count": null,
   "id": "7527d2c1",
   "metadata": {},
   "outputs": [],
   "source": [
    "df = pd.read_excel(\"online_retail.xlsx\")\n"
   ]
  },
  {
   "cell_type": "code",
   "execution_count": null,
   "id": "0a840237",
   "metadata": {},
   "outputs": [],
   "source": [
    "import pandas as pd\n",
    "\n",
    "# Load dataset from raw folder\n",
    "df = pd.read_excel(\"../data/raw/online_retail.xlsx\")\n",
    "\n",
    "# Show first 5 rows\n",
    "df.head()\n"
   ]
  },
  {
   "cell_type": "code",
   "execution_count": null,
   "id": "a3b68f6a",
   "metadata": {},
   "outputs": [],
   "source": [
    "# Save cleaned version\n",
    "df.to_csv(\"../data/processed/online_retail_cleaned.csv\", index=False)\n"
   ]
  },
  {
   "cell_type": "code",
   "execution_count": null,
   "id": "32ca32d0",
   "metadata": {},
   "outputs": [],
   "source": [
    "df = pd.read_excel(\"../data/raw/online_retail.xlsx\")\n"
   ]
  },
  {
   "cell_type": "code",
   "execution_count": null,
   "id": "b015af2d",
   "metadata": {},
   "outputs": [],
   "source": [
    "# Rename columns for consistency\n",
    "df.rename(columns={\n",
    "    'InvoiceNo': 'invoice_id',\n",
    "    'StockCode': 'stock_code',\n",
    "    'Description': 'description',\n",
    "    'Quantity': 'quantity',\n",
    "    'InvoiceDate': 'invoice_date',\n",
    "    'UnitPrice': 'unit_price',\n",
    "    'CustomerID': 'customer_id',\n",
    "    'Country': 'country'\n",
    "}, inplace=True)\n",
    "\n",
    "df.columns.tolist()\n"
   ]
  },
  {
   "cell_type": "code",
   "execution_count": null,
   "id": "c0b720a4",
   "metadata": {},
   "outputs": [],
   "source": [
    "import numpy as np\n",
    "import pandas as pd\n",
    "\n",
    "# Parse dates\n",
    "df['invoice_date'] = pd.to_datetime(df['invoice_date'], errors='coerce')\n",
    "\n",
    "# Drop rows with no customer id (needed for customer metrics)\n",
    "df = df.dropna(subset=['customer_id'])\n",
    "\n",
    "# Cast types\n",
    "df['customer_id'] = df['customer_id'].astype(int, errors='ignore')\n",
    "\n",
    "# Mark returns/credit notes (invoice id starts with 'C' -> treat as returns)\n",
    "is_return = df['invoice_id'].astype(str).str.startswith('C', na=False)\n",
    "\n",
    "# Keep only positive sales rows (exclude returns and any negative quantities/prices)\n",
    "df = df[~is_return]\n",
    "df = df[(df['quantity'] > 0) & (df['unit_price'] > 0)]\n",
    "\n",
    "# Total price column\n",
    "df['total_price'] = df['quantity'] * df['unit_price']\n",
    "\n",
    "# Month helpers\n",
    "df['order_month'] = df['invoice_date'].dt.to_period('M').dt.to_timestamp()\n",
    "\n",
    "print(df.shape)\n",
    "df.head()\n"
   ]
  },
  {
   "cell_type": "code",
   "execution_count": null,
   "id": "5e3c38a5",
   "metadata": {},
   "outputs": [],
   "source": [
    "# Standardize column names based on your dataset\n",
    "df.rename(columns={\n",
    "    'Invoice': 'invoice_id',\n",
    "    'stock_code': 'stock_code',\n",
    "    'description': 'description',\n",
    "    'quantity': 'quantity',\n",
    "    'invoice_date': 'invoice_date',\n",
    "    'Price': 'unit_price',\n",
    "    'Customer ID': 'customer_id',\n",
    "    'country': 'country'\n",
    "}, inplace=True)\n",
    "\n",
    "df.columns.tolist()\n"
   ]
  },
  {
   "cell_type": "code",
   "execution_count": null,
   "id": "d305b2ab",
   "metadata": {},
   "outputs": [],
   "source": [
    "import numpy as np\n",
    "import pandas as pd\n",
    "\n",
    "# Parse dates\n",
    "df['invoice_date'] = pd.to_datetime(df['invoice_date'], errors='coerce')\n",
    "\n",
    "# Drop rows with no customer id (needed for customer metrics)\n",
    "df = df.dropna(subset=['customer_id'])\n",
    "\n",
    "# Cast types\n",
    "df['customer_id'] = df['customer_id'].astype(int, errors='ignore')\n",
    "\n",
    "# Mark returns/credit notes (invoice id starts with 'C' -> treat as returns)\n",
    "is_return = df['invoice_id'].astype(str).str.startswith('C', na=False)\n",
    "\n",
    "# Keep only positive sales rows (exclude returns and any negative quantities/prices)\n",
    "df = df[~is_return]\n",
    "df = df[(df['quantity'] > 0) & (df['unit_price'] > 0)]\n",
    "\n",
    "# Total price column\n",
    "df['total_price'] = df['quantity'] * df['unit_price']\n",
    "\n",
    "# Month helpers\n",
    "df['order_month'] = df['invoice_date'].dt.to_period('M').dt.to_timestamp()\n",
    "\n",
    "print(df.shape)\n",
    "df.head()\n"
   ]
  },
  {
   "cell_type": "code",
   "execution_count": null,
   "id": "c925a1fb",
   "metadata": {},
   "outputs": [],
   "source": [
    "total_revenue    = df['total_price'].sum()\n",
    "num_transactions = df['invoice_id'].nunique()\n",
    "num_customers    = df['customer_id'].nunique()\n",
    "aov              = total_revenue / num_transactions if num_transactions else np.nan\n",
    "\n",
    "print(f\"Total Revenue: £{total_revenue:,.2f}\")\n",
    "print(f\"Transactions: {num_transactions:,}\")\n",
    "print(f\"Customers: {num_customers:,}\")\n",
    "print(f\"AOV: £{aov:,.2f}\")\n"
   ]
  },
  {
   "cell_type": "code",
   "execution_count": null,
   "id": "5984982c",
   "metadata": {},
   "outputs": [],
   "source": [
    "import matplotlib.pyplot as plt\n",
    "\n",
    "monthly_sales = df.groupby('order_month')['total_price'].sum().sort_index()\n",
    "ax = monthly_sales.plot(kind='line', figsize=(10,5), title='Monthly Sales (£)')\n",
    "ax.set_xlabel('Month'); ax.set_ylabel('Sales (£)')\n",
    "plt.tight_layout(); plt.show()\n"
   ]
  },
  {
   "cell_type": "code",
   "execution_count": null,
   "id": "85eb16e0",
   "metadata": {},
   "outputs": [],
   "source": [
    "top_products = (df.groupby('description')['total_price']\n",
    "                  .sum()\n",
    "                  .nlargest(10))\n",
    "ax = top_products.plot(kind='bar', figsize=(10,5), title='Top 10 Products by Revenue')\n",
    "ax.set_xlabel('Product'); ax.set_ylabel('Revenue (£)')\n",
    "plt.tight_layout(); plt.show()\n"
   ]
  },
  {
   "cell_type": "code",
   "execution_count": null,
   "id": "7d1abc5e",
   "metadata": {},
   "outputs": [],
   "source": [
    "sales_by_country = (df.groupby('country')['total_price']\n",
    "                      .sum()\n",
    "                      .sort_values(ascending=False)\n",
    "                      .head(10))\n",
    "ax = sales_by_country.plot(kind='bar', figsize=(10,5), title='Sales by Country (Top 10)')\n",
    "ax.set_xlabel('Country'); ax.set_ylabel('Sales (£)')\n",
    "plt.tight_layout(); plt.show()\n"
   ]
  },
  {
   "cell_type": "code",
   "execution_count": null,
   "id": "584d0786",
   "metadata": {},
   "outputs": [],
   "source": [
    "output_path = \"../data/processed/online_retail_cleaned.csv\"\n",
    "df.to_csv(output_path, index=False)\n",
    "output_path\n"
   ]
  },
  {
   "cell_type": "code",
   "execution_count": null,
   "id": "a47941af",
   "metadata": {},
   "outputs": [],
   "source": []
  }
 ],
 "metadata": {
  "kernelspec": {
   "display_name": ".venv",
   "language": "python",
   "name": "python3"
  },
  "language_info": {
   "codemirror_mode": {
    "name": "ipython",
    "version": 3
   },
   "file_extension": ".py",
   "mimetype": "text/x-python",
   "name": "python",
   "nbconvert_exporter": "python",
   "pygments_lexer": "ipython3",
   "version": "3.7.9"
  }
 },
 "nbformat": 4,
 "nbformat_minor": 5
}
