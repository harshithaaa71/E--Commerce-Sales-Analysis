{
 "cells": [
  {
   "cell_type": "code",
   "execution_count": null,
   "id": "79b52cd3",
   "metadata": {},
   "outputs": [],
   "source": [
    "import pandas as pd\n",
    "import numpy as np\n",
    "import matplotlib.pyplot as plt\n",
    "\n",
    "# Load the cleaned data created in 01_ecommerce_eda.ipynb\n",
    "df = pd.read_csv(\"../data/processed/online_retail_cleaned.csv\", low_memory=False)\n",
    "\n",
    "# Basic checks\n",
    "print(df.shape)\n",
    "print(df.columns.tolist())\n",
    "df.head()\n"
   ]
  },
  {
   "cell_type": "code",
   "execution_count": null,
   "id": "ba6b2fd9",
   "metadata": {},
   "outputs": [],
   "source": [
    "# Ensure correct dtypes\n",
    "df['invoice_date'] = pd.to_datetime(df['invoice_date'], errors='coerce')\n",
    "df['customer_id']  = df['customer_id'].astype(int, errors='ignore')\n",
    "df['order_month']  = df['invoice_date'].dt.to_period('M').dt.to_timestamp()\n",
    "\n",
    "# Sanity: total revenue should match your KPI from Day 1\n",
    "total_revenue = df['total_price'].sum()\n",
    "total_orders  = df['invoice_id'].nunique()\n",
    "total_customers = df['customer_id'].nunique()\n",
    "print(f\"Revenue £{total_revenue:,.2f} | Orders {total_orders:,} | Customers {total_customers:,}\")\n"
   ]
  },
  {
   "cell_type": "code",
   "execution_count": null,
   "id": "d9048add",
   "metadata": {},
   "outputs": [],
   "source": [
    "# Revenue by customer\n",
    "cust_rev = (df.groupby('customer_id')['total_price']\n",
    "              .sum()\n",
    "              .sort_values(ascending=False))\n",
    "cust_rev.head(10)\n",
    "# Repeat vs one-time buyers\n",
    "orders_per_customer = df.groupby('customer_id')['invoice_id'].nunique()\n",
    "repeat_rate = (orders_per_customer.gt(1).mean()) * 100\n",
    "one_time = (orders_per_customer.eq(1).sum())\n",
    "repeat_customers = (orders_per_customer.gt(1).sum())\n",
    "print(f\"Repeat rate: {repeat_rate:.1f}%  | One-time: {one_time}  | Repeat: {repeat_customers}\")\n",
    "# Top 10 customers (table)\n",
    "top_customers = cust_rev.head(10).reset_index().rename(columns={'total_price':'revenue'})\n",
    "top_customers\n",
    "# Plot: Top 10 customers by revenue\n",
    "ax = top_customers.set_index('customer_id')['revenue'].plot(kind='bar', figsize=(10,5), title='Top 10 Customers by Revenue')\n",
    "ax.set_xlabel('Customer ID'); ax.set_ylabel('Revenue (£)')\n",
    "plt.tight_layout(); plt.show()\n",
    "# Plot: Top 10 customers by revenue\n",
    "ax = top_customers.set_index('customer_id')['revenue'].plot(kind='bar', figsize=(10,5), title='Top 10 Customers by Revenue')\n",
    "ax.set_xlabel('Customer ID'); ax.set_ylabel('Revenue (£)')\n",
    "plt.tight_layout(); plt.show()\n"
   ]
  },
  {
   "cell_type": "code",
   "execution_count": null,
   "id": "80a879b6",
   "metadata": {},
   "outputs": [],
   "source": [
    "# Revenue by product\n",
    "prod_rev = (df.groupby('description')['total_price']\n",
    "              .sum()\n",
    "              .sort_values(ascending=False))\n",
    "\n",
    "top_products = prod_rev.head(10).reset_index().rename(columns={'total_price':'revenue'})\n",
    "top_products\n",
    "# Plot: Top 10 products\n",
    "ax = top_products.set_index('description')['revenue'].plot(kind='bar', figsize=(10,5), title='Top 10 Products by Revenue')\n",
    "ax.set_xlabel('Product'); ax.set_ylabel('Revenue (£)')\n",
    "plt.tight_layout(); plt.show()\n"
   ]
  },
  {
   "cell_type": "code",
   "execution_count": null,
   "id": "8f474b82",
   "metadata": {},
   "outputs": [],
   "source": [
    "country_rev = (df.groupby('country')['total_price']\n",
    "                 .sum()\n",
    "                 .sort_values(ascending=False))\n",
    "\n",
    "country_rev.head(10)\n",
    "# Exclude UK to see international distribution\n",
    "intl_rev = country_rev.drop(labels=['United Kingdom'], errors='ignore')\n",
    "top_intl = intl_rev.head(10).reset_index().rename(columns={'total_price':'revenue'})\n",
    "ax = top_intl.set_index('country')['revenue'].plot(kind='bar', figsize=(10,5), title='Top 10 Countries (Ex-UK) by Revenue')\n",
    "ax.set_xlabel('Country'); ax.set_ylabel('Revenue (£)')\n",
    "plt.tight_layout(); plt.show()\n"
   ]
  },
  {
   "cell_type": "code",
   "execution_count": null,
   "id": "98b089c2",
   "metadata": {},
   "outputs": [],
   "source": [
    "monthly_sales = df.groupby('order_month')['total_price'].sum().sort_index()\n",
    "ax = monthly_sales.plot(kind='line', figsize=(10,5), title='Monthly Sales (£)')\n",
    "ax.set_xlabel('Month'); ax.set_ylabel('Sales (£)')\n",
    "plt.tight_layout(); plt.show()\n",
    "\n",
    "monthly_orders = df.groupby('order_month')['invoice_id'].nunique().sort_index()\n",
    "ax = monthly_orders.plot(kind='line', figsize=(10,5), title='Monthly Orders')\n",
    "ax.set_xlabel('Month'); ax.set_ylabel('Orders')\n",
    "plt.tight_layout(); plt.show()\n"
   ]
  },
  {
   "cell_type": "code",
   "execution_count": null,
   "id": "e99cd816",
   "metadata": {},
   "outputs": [],
   "source": [
    "# Reference date = last date in data + 1 day\n",
    "ref_date = df['invoice_date'].max() + pd.Timedelta(days=1)\n",
    "\n",
    "rfm = (df.groupby('customer_id')\n",
    "         .agg(\n",
    "             recency=('invoice_date', lambda s: (ref_date - s.max()).days),\n",
    "             frequency=('invoice_id', 'nunique'),\n",
    "             monetary=('total_price', 'sum')\n",
    "         )\n",
    "      ).reset_index()\n",
    "\n",
    "# Quick look\n",
    "rfm.sort_values('monetary', ascending=False).head(10)\n",
    "# Basic segmentation (very rough thresholds — you can tune)\n",
    "rfm['segment'] = np.where((rfm['recency']<=30) & (rfm['frequency']>=3) & (rfm['monetary']>=rfm['monetary'].median()),\n",
    "                          'Champions','Others')\n",
    "rfm['segment'].value_counts()\n"
   ]
  },
  {
   "cell_type": "code",
   "execution_count": null,
   "id": "6cb1c302",
   "metadata": {},
   "outputs": [],
   "source": [
    "outdir = \"../data/processed/\"\n",
    "cust_rev.reset_index().rename(columns={'total_price':'revenue'}).to_csv(outdir+\"customer_revenue.csv\", index=False)\n",
    "prod_rev.reset_index().rename(columns={'total_price':'revenue'}).to_csv(outdir+\"product_revenue.csv\", index=False)\n",
    "country_rev.reset_index().rename(columns={'total_price':'revenue'}).to_csv(outdir+\"country_revenue.csv\", index=False)\n",
    "rfm.to_csv(outdir+\"rfm_customers.csv\", index=False)\n",
    "\"Saved: customer_revenue.csv, product_revenue.csv, country_revenue.csv, rfm_customers.csv\"\n"
   ]
  },
  {
   "cell_type": "code",
   "execution_count": null,
   "id": "6f152174",
   "metadata": {},
   "outputs": [],
   "source": []
  }
 ],
 "metadata": {
  "kernelspec": {
   "display_name": ".venv",
   "language": "python",
   "name": "python3"
  },
  "language_info": {
   "codemirror_mode": {
    "name": "ipython",
    "version": 3
   },
   "file_extension": ".py",
   "mimetype": "text/x-python",
   "name": "python",
   "nbconvert_exporter": "python",
   "pygments_lexer": "ipython3",
   "version": "3.7.9"
  }
 },
 "nbformat": 4,
 "nbformat_minor": 5
}
